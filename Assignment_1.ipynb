{
 "cells": [
  {
   "cell_type": "markdown",
   "metadata": {},
   "source": [
    "1 In the below elements which of them are values or an expression? eg:- values can be\n",
    "integer or string and expressions will be mathematical operators.\n",
    "\n",
    "(*) = Operator <br/>\n",
    "(-87.8) = Float<br/>\n",
    "(-) = Operator<br/>\n",
    "(/) = Operator<br/>\n",
    "(+) = Operator<br/>\n",
    "(6) = Integer<br/>"
   ]
  },
  {
   "cell_type": "markdown",
   "metadata": {},
   "source": [
    "2 What is the difference between string and variable?\n",
    "\n",
    "A string is a combination of letters for eg: \"apple\"<br/>\n",
    "A variable is something that can have any value as per requirment.<br/>\n",
    "eg: x = 10; x is a variable with value assigned as 10."
   ]
  },
  {
   "cell_type": "markdown",
   "metadata": {},
   "source": [
    "3 Describe three different data types.\n",
    "\n",
    "\"String -- letters<br/>\n",
    "Integer -- numbers<br/>\n",
    "boolean -- Yes/No; True/False; 1/0.\""
   ]
  },
  {
   "cell_type": "markdown",
   "metadata": {},
   "source": [
    "4 What is an expression made up of? What do all expressions do?\n",
    "\n",
    "\"An expression is a combination of operators and operands that is interpreted to produce some other value\"<br/>\n",
    "\"Evaluate to a value.\""
   ]
  },
  {
   "cell_type": "markdown",
   "metadata": {},
   "source": [
    "5 This assignment statement, like spam = 10. What is the difference between an\n",
    "expression and a statement?\n",
    "\n",
    "\"Expression evaluates to something\"<br/>\n",
    "\"A statement states something\""
   ]
  },
  {
   "cell_type": "markdown",
   "metadata": {},
   "source": [
    "6 After running the following code, what does the variable bacon contain?<br/>\n",
    "bacon = 22<br/>\n",
    "bacon + 1<br/>\n",
    "\n",
    "bacon = 23\n"
   ]
  },
  {
   "cell_type": "markdown",
   "metadata": {},
   "source": [
    "7 What should the values of the following two terms be?<br/>\n",
    "'spam' + 'spamspam'<br/>\n",
    "'spam' * 3<br/>\n",
    "\n",
    "'spam' + 'spamspam' = 'spamspamspam'<br/>\n",
    "'spam' * 3 = 'spamspamspam'"
   ]
  },
  {
   "cell_type": "markdown",
   "metadata": {},
   "source": [
    "8 Why is eggs a valid variable name while 100 is invalid?\n",
    "\n",
    "\"variable cannot start with a number\""
   ]
  },
  {
   "cell_type": "markdown",
   "metadata": {},
   "source": [
    "9 What three functions can be used to get the integer, floating-point number, or string\n",
    "version of a value?\n",
    "\n",
    "The int() , float() , and str( ) functions will evaluate to the integer, floating-point number, and string <br/>\n",
    "versions of the value passed to them."
   ]
  },
  {
   "cell_type": "markdown",
   "metadata": {},
   "source": [
    "10 Why does this expression cause an error? How can you fix it?\n",
    "'I have eaten' + 99 + 'burritos'\n",
    "\n",
    "TypeError: can only concatenate str (not \"int\") to str<br/>\n",
    "'I have eaten' + 'ninety nine' + 'burritos'"
   ]
  }
 ],
 "metadata": {
  "kernelspec": {
   "display_name": "Python 3.7.0 64-bit",
   "language": "python",
   "name": "python3"
  },
  "language_info": {
   "codemirror_mode": {
    "name": "ipython",
    "version": 3
   },
   "file_extension": ".py",
   "mimetype": "text/x-python",
   "name": "python",
   "nbconvert_exporter": "python",
   "pygments_lexer": "ipython3",
   "version": "3.7.0"
  },
  "orig_nbformat": 4,
  "vscode": {
   "interpreter": {
    "hash": "f5664d5c65c3ef4a43e09bbddaa6f8ab80a53bb5eae2317dcc776bd5664e93b2"
   }
  }
 },
 "nbformat": 4,
 "nbformat_minor": 2
}
