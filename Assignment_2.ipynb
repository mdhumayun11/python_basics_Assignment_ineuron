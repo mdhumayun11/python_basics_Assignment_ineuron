{
 "cells": [
  {
   "cell_type": "markdown",
   "metadata": {},
   "source": [
    "1 What are the two values of the Boolean data type? How do you write them?\n",
    "\n",
    "True and False <br>\n",
    "one = True<br>\n",
    "two = False"
   ]
  },
  {
   "cell_type": "markdown",
   "metadata": {},
   "source": [
    "2 What are the three different types of Boolean operators?\n",
    "\n",
    "AND, OR, NOT"
   ]
  },
  {
   "cell_type": "markdown",
   "metadata": {},
   "source": [
    "3 Make a list of each Boolean operator's truth tables (i.e. every possible combination of Boolean\n",
    "values for the operator and what it evaluate ).\n",
    "\n",
    "AND  &nbsp;&nbsp; &nbsp;&nbsp;&nbsp;&nbsp;&nbsp;&nbsp;  &nbsp; &nbsp;  OR &nbsp; &nbsp;  &nbsp;   &nbsp;  NOT<br> \n",
    "0 && 0 = 0   &nbsp;  0 || 0 = 0   &nbsp;    0 != 1<br>\n",
    "0 && 1 = 0  &nbsp;   0 || 1 = 1    &nbsp;   1 != 0<br>\n",
    "1 && 0 = 0  &nbsp;   1 || 0 = 1<br>\n",
    "1 && 1 = 1  &nbsp;   1 || 1 = 1<br>"
   ]
  },
  {
   "cell_type": "markdown",
   "metadata": {},
   "source": [
    "4 What are the values of the following expressions?\n",
    "                        \n",
    "(5 > 4) and (3 == 5) = false<br>\n",
    "not (5 > 4) = false<br>\n",
    "(5 > 4) or (3 == 5) = true<br>\n",
    "not ((5 > 4) or (3 == 5)) = false<br>\n",
    "(True and True) and (True == False) = false<br>\n",
    "(not False) or (not True) = true"
   ]
  },
  {
   "cell_type": "markdown",
   "metadata": {},
   "source": [
    "5 What are the six comparison operators?\n",
    "\n",
    "<pre><\n",
    ">\n",
    "==\n",
    ">=\n",
    "<=\n",
    "!=<pre>"
   ]
  },
  {
   "cell_type": "markdown",
   "metadata": {},
   "source": [
    "6 How do you tell the difference between the equal to and assignment operators?Describe a\n",
    "condition and when you would use one.\n",
    "\n",
    "= this is assignment operator eg: x=5;<br>\n",
    "== this is equal to comparison operator eg:"
   ]
  },
  {
   "cell_type": "markdown",
   "metadata": {},
   "source": [
    "7 Identify the three blocks in this code:\n",
    "```python\n",
    "spam = 0\n",
    "block_1 {\n",
    "    if spam == 10:\n",
    "print('eggs')\n",
    "    }\n",
    "block_2 {\n",
    "    if spam > 5:\n",
    "print('bacon')\n",
    "  }\n",
    "block_3 {\n",
    "    else:\n",
    "print('ham')\n",
    "print('spam')\n",
    "print('spam')\n",
    "}\n",
    "```"
   ]
  },
  {
   "cell_type": "markdown",
   "metadata": {},
   "source": [
    "8 Write code that prints Hello if 1 is stored in spam, prints Howdy if 2 is stored in spam, and prints\n",
    "Greetings! if anything else is stored in spam.\n",
    "```python\n",
    "spam = 3\n",
    "if spam == 1:\n",
    "    print(\"Hello\")\n",
    "elif spam == 2:\n",
    "    print(\"Howdy\")\n",
    "else:\n",
    "    print(\"Greetings\")  "
   ]
  },
  {
   "cell_type": "markdown",
   "metadata": {},
   "source": [
    "9 If your programme is stuck in an endless loop, what keys you’ll press?<br>\n",
    "\n",
    "Ans: Delete cell or end program"
   ]
  },
  {
   "cell_type": "markdown",
   "metadata": {},
   "source": [
    "10. How can you tell the difference between break and continue?<br>\n",
    "\n",
    "ans:\n",
    "break will end the blocck\n",
    "continue will skip the true condition "
   ]
  },
  {
   "cell_type": "markdown",
   "metadata": {},
   "source": [
    "11. In a for loop, what is the difference between range(10), range(0, 10), and range(0, 10, 1)?\n",
    "\n",
    " range(10) is same as range(0, 10)<br>\n",
    " range(0, 10) means 0-9 range(intial value, final value)<br>\n",
    " range(0, 10, 1) means range(intial value, final value, step-index)"
   ]
  },
  {
   "cell_type": "markdown",
   "metadata": {},
   "source": [
    "12. Write a short program that prints the numbers 1 to 10 using a for loop. Then write an equivalent\n",
    "program that prints the numbers 1 to 10 using a while loop.\n",
    "```python\n",
    "for j in range (0,11):\n",
    "    print(j)\n",
    "\n",
    "i = 0    \n",
    "while (i<11):\n",
    "    print(i)\n",
    "    i = i+1\n",
    "```    \n"
   ]
  },
  {
   "cell_type": "markdown",
   "metadata": {},
   "source": [
    "13. If you had a function named bacon() inside a module named spam, how would you call it after importing spam?\n",
    "\n",
    "This function can be called with spam. bacon()"
   ]
  }
 ],
 "metadata": {
  "kernelspec": {
   "display_name": "Python 3.7.0 64-bit",
   "language": "python",
   "name": "python3"
  },
  "language_info": {
   "codemirror_mode": {
    "name": "ipython",
    "version": 3
   },
   "file_extension": ".py",
   "mimetype": "text/x-python",
   "name": "python",
   "nbconvert_exporter": "python",
   "pygments_lexer": "ipython3",
   "version": "3.7.0"
  },
  "orig_nbformat": 4,
  "vscode": {
   "interpreter": {
    "hash": "f5664d5c65c3ef4a43e09bbddaa6f8ab80a53bb5eae2317dcc776bd5664e93b2"
   }
  }
 },
 "nbformat": 4,
 "nbformat_minor": 2
}
