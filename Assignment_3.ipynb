{
 "cells": [
  {
   "cell_type": "markdown",
   "metadata": {},
   "source": [
    "1. Why are functions advantageous to have in your programs?<br>\n",
    "Functions reduce the need for duplicate code. This makes programs shorter, easier to read, and easier to update."
   ]
  },
  {
   "cell_type": "markdown",
   "metadata": {},
   "source": [
    "2. When does the code in a function run: when it's specified or when it's called?<br>\n",
    "The code in the function runs when its called."
   ]
  },
  {
   "cell_type": "markdown",
   "metadata": {},
   "source": [
    "3. What statement creates a function?<br>\n",
    "def "
   ]
  },
  {
   "cell_type": "markdown",
   "metadata": {},
   "source": [
    "4. What is the difference between a function and a function call?<br>\n",
    "A function is a block of code that does a particular operation and returns a result. It usually accepts inputs as parameters and returns a result. The parameters are not mandatory. A function call is the code used to pass control to a function."
   ]
  },
  {
   "cell_type": "markdown",
   "metadata": {},
   "source": [
    "5. How many global scopes are there in a Python program? How many local scopes?<br>\n",
    "There is one global scope, and a local scope is created whenever a function is called."
   ]
  },
  {
   "cell_type": "markdown",
   "metadata": {},
   "source": [
    "6. What happens to variables in a local scope when the function call returns?<br>\n",
    "When the execution of the function terminates (returns), the local variables are destroyed."
   ]
  },
  {
   "cell_type": "markdown",
   "metadata": {},
   "source": [
    "7. What is the concept of a return value? Is it possible to have a return value in an expression?<br>\n",
    "A return is a value that a function returns to the calling script or function when it completes its task.<br>\n",
    "Since return_42() returns a numeric value, you can use that value in a math expression or any other kind of expression in which the value has a logical or coherent meaning. This is how a caller code can take advantage of a function's return value."
   ]
  },
  {
   "cell_type": "markdown",
   "metadata": {},
   "source": [
    "8. If a function does not have a return statement, what is the return value of a call to that function?<br>\n",
    "If there is no return statement for a function, its return value is None."
   ]
  },
  {
   "cell_type": "markdown",
   "metadata": {},
   "source": [
    "9. How do you make a function variable refer to the global variable?<br>\n",
    "To create a global variable inside a function, you can use the global keyword."
   ]
  },
  {
   "cell_type": "markdown",
   "metadata": {},
   "source": [
    "10. What is the data type of None?<br>\n",
    "NoneType<br>\n",
    "The None keyword is used to define a null value, or no value at all. None is not the same as 0, False, or an empty string. None is a data type of its own (NoneType) and only None can be None."
   ]
  },
  {
   "cell_type": "markdown",
   "metadata": {},
   "source": [
    "11. What does the sentence import areallyourpetsnamederic do?<br>\n",
    "That import statement imports a module named areallyourpetsnamederic."
   ]
  },
  {
   "cell_type": "markdown",
   "metadata": {},
   "source": [
    "12. If you had a bacon() feature in a spam module, what would you call it after importing spam?<br>\n",
    "This function can be called with spam.bacon()."
   ]
  },
  {
   "cell_type": "markdown",
   "metadata": {},
   "source": [
    "13. What can you do to save a programme from crashing if it encounters an error?<br>\n",
    "Place the line of code that might cause an error in a try clause."
   ]
  },
  {
   "cell_type": "markdown",
   "metadata": {},
   "source": [
    "14. What is the purpose of the try clause? What is the purpose of the except clause?<br>\n",
    "The code that could potentially cause an error goes in the try clause.\n",
    "-The code that executes if an error happens goes in the except clause."
   ]
  }
 ],
 "metadata": {
  "kernelspec": {
   "display_name": "Python 3.7.0 64-bit",
   "language": "python",
   "name": "python3"
  },
  "language_info": {
   "codemirror_mode": {
    "name": "ipython",
    "version": 3
   },
   "file_extension": ".py",
   "mimetype": "text/x-python",
   "name": "python",
   "nbconvert_exporter": "python",
   "pygments_lexer": "ipython3",
   "version": "3.7.0"
  },
  "orig_nbformat": 4,
  "vscode": {
   "interpreter": {
    "hash": "f5664d5c65c3ef4a43e09bbddaa6f8ab80a53bb5eae2317dcc776bd5664e93b2"
   }
  }
 },
 "nbformat": 4,
 "nbformat_minor": 2
}
