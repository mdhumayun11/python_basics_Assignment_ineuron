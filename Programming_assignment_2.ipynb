{
 "cells": [
  {
   "cell_type": "code",
   "execution_count": 3,
   "metadata": {},
   "outputs": [
    {
     "name": "stdout",
     "output_type": "stream",
     "text": [
      "62.137100000000004: miles\n"
     ]
    }
   ],
   "source": [
    "#1. Write a Python program to convert kilometers to miles?\n",
    "\n",
    "a = int(input(\" : Km\"))\n",
    "b = a*0.621371\n",
    "print(\"{}: miles\".format(b))"
   ]
  },
  {
   "cell_type": "code",
   "execution_count": 13,
   "metadata": {},
   "outputs": [
    {
     "name": "stdout",
     "output_type": "stream",
     "text": [
      "172.4: Fahrenheit\n"
     ]
    }
   ],
   "source": [
    "#2. Write a Python program to convert Celsius to Fahrenheit?\n",
    "\n",
    "a = int(input(\" : Celsius\"))\n",
    "b = (a*9/5)+32\n",
    "print(\"{}: Fahrenheit\".format(b))"
   ]
  },
  {
   "cell_type": "code",
   "execution_count": 28,
   "metadata": {},
   "outputs": [
    {
     "name": "stdout",
     "output_type": "stream",
     "text": [
      "                                  2025\n",
      "\n",
      "      January                   February                   March\n",
      "Mo Tu We Th Fr Sa Su      Mo Tu We Th Fr Sa Su      Mo Tu We Th Fr Sa Su\n",
      "       1  2  3  4  5                      1  2                      1  2\n",
      " 6  7  8  9 10 11 12       3  4  5  6  7  8  9       3  4  5  6  7  8  9\n",
      "13 14 15 16 17 18 19      10 11 12 13 14 15 16      10 11 12 13 14 15 16\n",
      "20 21 22 23 24 25 26      17 18 19 20 21 22 23      17 18 19 20 21 22 23\n",
      "27 28 29 30 31            24 25 26 27 28            24 25 26 27 28 29 30\n",
      "                                                    31\n",
      "\n",
      "       April                      May                       June\n",
      "Mo Tu We Th Fr Sa Su      Mo Tu We Th Fr Sa Su      Mo Tu We Th Fr Sa Su\n",
      "    1  2  3  4  5  6                1  2  3  4                         1\n",
      " 7  8  9 10 11 12 13       5  6  7  8  9 10 11       2  3  4  5  6  7  8\n",
      "14 15 16 17 18 19 20      12 13 14 15 16 17 18       9 10 11 12 13 14 15\n",
      "21 22 23 24 25 26 27      19 20 21 22 23 24 25      16 17 18 19 20 21 22\n",
      "28 29 30                  26 27 28 29 30 31         23 24 25 26 27 28 29\n",
      "                                                    30\n",
      "\n",
      "        July                     August                  September\n",
      "Mo Tu We Th Fr Sa Su      Mo Tu We Th Fr Sa Su      Mo Tu We Th Fr Sa Su\n",
      "    1  2  3  4  5  6                   1  2  3       1  2  3  4  5  6  7\n",
      " 7  8  9 10 11 12 13       4  5  6  7  8  9 10       8  9 10 11 12 13 14\n",
      "14 15 16 17 18 19 20      11 12 13 14 15 16 17      15 16 17 18 19 20 21\n",
      "21 22 23 24 25 26 27      18 19 20 21 22 23 24      22 23 24 25 26 27 28\n",
      "28 29 30 31               25 26 27 28 29 30 31      29 30\n",
      "\n",
      "      October                   November                  December\n",
      "Mo Tu We Th Fr Sa Su      Mo Tu We Th Fr Sa Su      Mo Tu We Th Fr Sa Su\n",
      "       1  2  3  4  5                      1  2       1  2  3  4  5  6  7\n",
      " 6  7  8  9 10 11 12       3  4  5  6  7  8  9       8  9 10 11 12 13 14\n",
      "13 14 15 16 17 18 19      10 11 12 13 14 15 16      15 16 17 18 19 20 21\n",
      "20 21 22 23 24 25 26      17 18 19 20 21 22 23      22 23 24 25 26 27 28\n",
      "27 28 29 30 31            24 25 26 27 28 29 30      29 30 31\n",
      "\n"
     ]
    }
   ],
   "source": [
    "#3. Write a Python program to display calendar?\n",
    "\n",
    "import calendar\n",
    "def showCalender():\n",
    "    year = int(input(\"Enter calender year: \"))\n",
    "    print(calendar.calendar(year))\n",
    "    \n",
    "showCalender()"
   ]
  },
  {
   "cell_type": "code",
   "execution_count": 1,
   "metadata": {},
   "outputs": [
    {
     "name": "stdout",
     "output_type": "stream",
     "text": [
      "The solutions are: -2.0 -3.0\n"
     ]
    }
   ],
   "source": [
    "#4. Write a Python program to solve quadratic equation?\n",
    "\n",
    "import math\n",
    "\n",
    "a = int(input(\"a = : \"))\n",
    "b = int(input(\"b : \"))\n",
    "c = int(input(\"c = : \"))\n",
    "\n",
    "discriminant = b*b - 4*a*c\n",
    "\n",
    "if discriminant < 0:\n",
    "    print(\"No real solutions\")\n",
    "elif discriminant == 0:\n",
    "    root = -b / (2*a)\n",
    "    print(\"The solution is:\", root)\n",
    "else:\n",
    "    discRoot = math.sqrt(discriminant)\n",
    "    root1 = (-b + discRoot) / (2 * a)\n",
    "    root2 = (-b - discRoot) / (2 * a)\n",
    "    print(\"The solutions are:\", root1, root2)\n"
   ]
  },
  {
   "cell_type": "code",
   "execution_count": 1,
   "metadata": {},
   "outputs": [
    {
     "name": "stdout",
     "output_type": "stream",
     "text": [
      "Before Swapping 3 9\n",
      "before Swapping 9 3\n"
     ]
    }
   ],
   "source": [
    "#5. Write a Python program to swap two variables without temp variable?\n",
    "num_1 = int(input('Enter first number: '))\n",
    "num_2 = int(input('Enter second number: '))\n",
    "\n",
    "\n",
    "def swapNumbers(num_1,num_2):\n",
    "        print('Before Swapping',num_1,num_2)\n",
    "        num_1 = num_1+num_2\n",
    "        num_2 = num_1-num_2\n",
    "        num_1 = num_1-num_2\n",
    "        print('before Swapping',num_1,num_2)\n",
    "\n",
    "swapNumbers(num_1,num_2)"
   ]
  }
 ],
 "metadata": {
  "kernelspec": {
   "display_name": "Python 3",
   "language": "python",
   "name": "python3"
  },
  "language_info": {
   "codemirror_mode": {
    "name": "ipython",
    "version": 3
   },
   "file_extension": ".py",
   "mimetype": "text/x-python",
   "name": "python",
   "nbconvert_exporter": "python",
   "pygments_lexer": "ipython3",
   "version": "3.7.0"
  },
  "orig_nbformat": 4,
  "vscode": {
   "interpreter": {
    "hash": "f5664d5c65c3ef4a43e09bbddaa6f8ab80a53bb5eae2317dcc776bd5664e93b2"
   }
  }
 },
 "nbformat": 4,
 "nbformat_minor": 2
}
